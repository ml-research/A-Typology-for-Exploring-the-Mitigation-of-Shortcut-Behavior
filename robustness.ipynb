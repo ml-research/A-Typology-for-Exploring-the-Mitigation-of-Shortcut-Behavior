{
 "cells": [
  {
   "cell_type": "markdown",
   "metadata": {
    "id": "tzZrdn2aWYzD"
   },
   "source": [
    "### Feedback robustness"
   ]
  },
  {
   "cell_type": "code",
   "execution_count": 1,
   "metadata": {
    "colab": {
     "base_uri": "https://localhost:8080/"
    },
    "executionInfo": {
     "elapsed": 10,
     "status": "ok",
     "timestamp": 1622109181864,
     "user": {
      "displayName": "Lars Meister",
      "photoUrl": "",
      "userId": "11519042409241081673"
     },
     "user_tz": -120
    },
    "id": "fT_9U473WYzF",
    "outputId": "4826cb18-7049-4c5e-ba13-c0d825ae5209"
   },
   "outputs": [
    {
     "name": "stderr",
     "output_type": "stream",
     "text": [
      "<frozen importlib._bootstrap>:219: RuntimeWarning: scipy._lib.messagestream.MessageStream size changed, may indicate binary incompatibility. Expected 56 from C header, got 64 from PyObject\n"
     ]
    },
    {
     "name": "stdout",
     "output_type": "stream",
     "text": [
      "[Using cuda device]\n"
     ]
    }
   ],
   "source": [
    "import logging\n",
    "\n",
    "import torch\n",
    "from torch import nn\n",
    "from torch.nn import functional as F\n",
    "import numpy as np\n",
    "\n",
    "from learner.models import dnns\n",
    "from learner.learner import Learner\n",
    "from data_store.datasets import decoy_mnist, decoy_mnist_CE_augmented\n",
    "from xil_methods.xil_loss import RRRLoss, RRRGradCamLoss, CDEPLoss, HINTLoss, RBRLoss\n",
    "import util\n",
    "\n",
    "# Hyperparameters\n",
    "EPOCHS = 50\n",
    "BATCH_SIZE = 256\n",
    "LR = 0.001\n",
    "WEIGHT_DECAY = 0.0001\n",
    "SAVE_LAST = True\n",
    "VERBOSE_AFTER_N_EPOCHS = 2\n",
    "SEED = [1, 10, 100, 1000, 10000]\n",
    "\n",
    "DEVICE = \"cuda\" if torch.cuda.is_available() else \"cpu\"\n",
    "print(f\"[Using {DEVICE} device]\")"
   ]
  },
  {
   "cell_type": "markdown",
   "metadata": {},
   "source": [
    "Note: we here use wrong instead of arbitrary feedback"
   ]
  },
  {
   "cell_type": "code",
   "execution_count": 2,
   "metadata": {},
   "outputs": [
    {
     "name": "stdout",
     "output_type": "stream",
     "text": [
      "[Using Seed= 1]\n",
      "Generating dataset...\n",
      "Downloading raw files from http://fashion-mnist.s3-website.eu-central-1.amazonaws.com/train-images-idx3-ubyte.gz\n",
      "Downloading raw files from http://fashion-mnist.s3-website.eu-central-1.amazonaws.com/train-labels-idx1-ubyte.gz\n",
      "Downloading raw files from http://fashion-mnist.s3-website.eu-central-1.amazonaws.com/t10k-images-idx3-ubyte.gz\n",
      "Downloading raw files from http://fashion-mnist.s3-website.eu-central-1.amazonaws.com/t10k-labels-idx1-ubyte.gz\n",
      "RRR-wrong-0\n",
      "Start training...\n",
      "Epoch 2| accuracy: 90.8%, loss: 0.001169 | Test Error: Acc: 72.6%, Avg loss: 0.007025\n",
      "Epoch 4| accuracy: 94.0%, loss: 0.000755 | Test Error: Acc: 69.6%, Avg loss: 0.007111\n",
      "Epoch 6| accuracy: 95.5%, loss: 0.000577 | Test Error: Acc: 66.1%, Avg loss: 0.007212\n",
      "Epoch 8| accuracy: 96.4%, loss: 0.000478 | Test Error: Acc: 64.5%, Avg loss: 0.007272\n",
      "Epoch 10| accuracy: 97.1%, loss: 0.000393 | Test Error: Acc: 63.0%, Avg loss: 0.007321\n",
      "Epoch 12| accuracy: 97.2%, loss: 0.000369 | Test Error: Acc: 61.4%, Avg loss: 0.007386\n",
      "Epoch 14| accuracy: 97.4%, loss: 0.000341 | Test Error: Acc: 63.7%, Avg loss: 0.007286\n",
      "Epoch 16| accuracy: 97.7%, loss: 0.000305 | Test Error: Acc: 60.2%, Avg loss: 0.007430\n",
      "Epoch 18| accuracy: 98.1%, loss: 0.000260 | Test Error: Acc: 61.9%, Avg loss: 0.007353\n",
      "Epoch 20| accuracy: 98.2%, loss: 0.000250 | Test Error: Acc: 60.1%, Avg loss: 0.007432\n",
      "Epoch 22| accuracy: 98.2%, loss: 0.000256 | Test Error: Acc: 61.1%, Avg loss: 0.007394\n",
      "Epoch 24| accuracy: 98.7%, loss: 0.000201 | Test Error: Acc: 61.5%, Avg loss: 0.007374\n",
      "Epoch 26| accuracy: 98.7%, loss: 0.000193 | Test Error: Acc: 61.5%, Avg loss: 0.007382\n",
      "Epoch 28| accuracy: 98.6%, loss: 0.000200 | Test Error: Acc: 62.8%, Avg loss: 0.007320\n",
      "Epoch 30| accuracy: 98.8%, loss: 0.000184 | Test Error: Acc: 63.0%, Avg loss: 0.007317\n",
      "Epoch 32| accuracy: 98.8%, loss: 0.000174 | Test Error: Acc: 62.1%, Avg loss: 0.007355\n",
      "Epoch 34| accuracy: 98.7%, loss: 0.000185 | Test Error: Acc: 63.0%, Avg loss: 0.007311\n",
      "Epoch 36| accuracy: 98.9%, loss: 0.000164 | Test Error: Acc: 62.3%, Avg loss: 0.007346\n",
      "Epoch 38| accuracy: 99.1%, loss: 0.000148 | Test Error: Acc: 64.3%, Avg loss: 0.007260\n",
      "Epoch 40| accuracy: 99.0%, loss: 0.000155 | Test Error: Acc: 64.1%, Avg loss: 0.007270\n",
      "Epoch 42| accuracy: 99.1%, loss: 0.000139 | Test Error: Acc: 60.5%, Avg loss: 0.007411\n",
      "Epoch 44| accuracy: 99.1%, loss: 0.000144 | Test Error: Acc: 62.6%, Avg loss: 0.007325\n",
      "Epoch 46| accuracy: 99.3%, loss: 0.000131 | Test Error: Acc: 62.9%, Avg loss: 0.007323\n",
      "Epoch 48| accuracy: 99.2%, loss: 0.000129 | Test Error: Acc: 61.5%, Avg loss: 0.007364\n",
      "Epoch 50| accuracy: 99.4%, loss: 0.000104 | Test Error: Acc: 59.8%, Avg loss: 0.007436\n",
      "--> Training took 92.652438 seconds!\n"
     ]
    },
    {
     "ename": "NameError",
     "evalue": "name 'f' is not defined",
     "output_type": "error",
     "traceback": [
      "\u001b[0;31m---------------------------------------------------------------------------\u001b[0m",
      "\u001b[0;31mNameError\u001b[0m                                 Traceback (most recent call last)",
      "\u001b[0;32m/tmp/ipykernel_5288/2458962050.py\u001b[0m in \u001b[0;36m<module>\u001b[0;34m\u001b[0m\n\u001b[1;32m     35\u001b[0m             \u001b[0mlearner\u001b[0m\u001b[0;34m.\u001b[0m\u001b[0mfit\u001b[0m\u001b[0;34m(\u001b[0m\u001b[0mtrain_dataloader\u001b[0m\u001b[0;34m,\u001b[0m \u001b[0mtest_dataloader\u001b[0m\u001b[0;34m,\u001b[0m \u001b[0mEPOCHS\u001b[0m\u001b[0;34m,\u001b[0m \u001b[0msave_last\u001b[0m\u001b[0;34m=\u001b[0m\u001b[0mSAVE_LAST\u001b[0m\u001b[0;34m,\u001b[0m \u001b[0mverbose_after_n_epochs\u001b[0m\u001b[0;34m=\u001b[0m\u001b[0mVERBOSE_AFTER_N_EPOCHS\u001b[0m\u001b[0;34m)\u001b[0m\u001b[0;34m\u001b[0m\u001b[0;34m\u001b[0m\u001b[0m\n\u001b[1;32m     36\u001b[0m             \u001b[0mtest_acc\u001b[0m\u001b[0;34m,\u001b[0m \u001b[0m_\u001b[0m \u001b[0;34m=\u001b[0m \u001b[0mlearner\u001b[0m\u001b[0;34m.\u001b[0m\u001b[0mscore\u001b[0m\u001b[0;34m(\u001b[0m\u001b[0mtest_dataloader\u001b[0m\u001b[0;34m,\u001b[0m \u001b[0mlearner\u001b[0m\u001b[0;34m.\u001b[0m\u001b[0mbase_criterion\u001b[0m\u001b[0;34m)\u001b[0m\u001b[0;34m\u001b[0m\u001b[0;34m\u001b[0m\u001b[0m\n\u001b[0;32m---> 37\u001b[0;31m             \u001b[0mf\u001b[0m\u001b[0;34m.\u001b[0m\u001b[0mwrite\u001b[0m\u001b[0;34m(\u001b[0m\u001b[0;34mf'{meth}-{feed}-{n}: {test_acc}\\n'\u001b[0m\u001b[0;34m)\u001b[0m\u001b[0;34m\u001b[0m\u001b[0;34m\u001b[0m\u001b[0m\n\u001b[0m",
      "\u001b[0;31mNameError\u001b[0m: name 'f' is not defined"
     ]
    }
   ],
   "source": [
    "methods = ['RRR', 'RRRGradCAM', 'RBR', 'CDEP', 'HINT', 'CE']\n",
    "for feed in ['wrong', 'incomplete']:\n",
    "    for n in range(5):\n",
    "        util.seed_all(SEED[n])\n",
    "        for meth in methods:\n",
    "            if meth == 'RRR':\n",
    "                train_dataloader, test_dataloader = decoy_mnist(fmnist=True, device=DEVICE, batch_size=BATCH_SIZE, feedback=feed)      \n",
    "                reg = 10\n",
    "                loss_fn = RRRLoss(reg)\n",
    "            elif meth == 'RBR':\n",
    "                train_dataloader, test_dataloader = decoy_mnist(fmnist=True, device=DEVICE, batch_size=BATCH_SIZE, feedback=feed)      \n",
    "                reg = 1000000\n",
    "                loss_fn = RBRLoss(reg)\n",
    "            elif meth == 'RRRGradCAM':\n",
    "                train_dataloader, test_dataloader = decoy_mnist(fmnist=True, device=DEVICE, batch_size=BATCH_SIZE, feedback=feed)      \n",
    "                reg = 10\n",
    "                loss_fn = RRRGradCamLoss(reg)\n",
    "            elif meth == 'HINT':\n",
    "                train_dataloader, test_dataloader = decoy_mnist(fmnist=True, hint_expl=True, device=DEVICE, batch_size=BATCH_SIZE, feedback=feed)\n",
    "                reg = 10\n",
    "                loss_fn = HINTLoss(reg, last_conv_specified=True, upsample=True)\n",
    "            elif meth == 'CE':\n",
    "                train_dataloader, test_dataloader = decoy_mnist_CE_augmented(fmnist=True, device=DEVICE, batch_size=BATCH_SIZE, feedback=feed)\n",
    "                reg = None\n",
    "                loss_fn = nn.CrossEntropyLoss()\n",
    "            elif meth == 'CDEP':\n",
    "                train_dataloader, test_dataloader = decoy_mnist(fmnist=True, device=DEVICE, batch_size=BATCH_SIZE, feedback=feed)      \n",
    "                reg = 2000000  \n",
    "                loss_fn = CDEPLoss(reg)\n",
    "            print(f'{meth}-{feed}-{n}')\n",
    "            model = dnns.SimpleConvNet().to(DEVICE)\n",
    "            optimizer = torch.optim.Adam(model.parameters(), lr=LR)\n",
    "            modelname = f'Robustness-{feed}-DecoyFMNIST-CNN-{meth}--seed={SEED[n]}'\n",
    "            learner = Learner(model, loss_fn, optimizer, DEVICE, modelname)\n",
    "            learner.fit(train_dataloader, test_dataloader, EPOCHS, save_last=SAVE_LAST, verbose_after_n_epochs=VERBOSE_AFTER_N_EPOCHS)\n",
    "            test_acc, _ = learner.score(test_dataloader, learner.base_criterion)"
   ]
  },
  {
   "cell_type": "code",
   "execution_count": null,
   "metadata": {},
   "outputs": [
    {
     "name": "stdout",
     "output_type": "stream",
     "text": [
      "[Using Seed= 1]\n",
      "Loading dataset from existing file!\n",
      "RRR-wrong-0\n",
      "Start training...\n",
      "Epoch 2| accuracy: 97.8%, loss: 0.000337 | Test Error: Acc: 97.1%, Avg loss: 0.005992\n",
      "Epoch 4| accuracy: 98.9%, loss: 0.000161 | Test Error: Acc: 97.2%, Avg loss: 0.005973\n",
      "Epoch 6| accuracy: 99.3%, loss: 0.000109 | Test Error: Acc: 96.3%, Avg loss: 0.006006\n",
      "Epoch 8| accuracy: 99.6%, loss: 0.000067 | Test Error: Acc: 96.9%, Avg loss: 0.005976\n",
      "Epoch 10| accuracy: 99.6%, loss: 0.000055 | Test Error: Acc: 94.7%, Avg loss: 0.006060\n",
      "Epoch 12| accuracy: 99.7%, loss: 0.000041 | Test Error: Acc: 96.2%, Avg loss: 0.006004\n",
      "Epoch 14| accuracy: 99.7%, loss: 0.000044 | Test Error: Acc: 94.4%, Avg loss: 0.006074\n",
      "Epoch 16| accuracy: 99.9%, loss: 0.000022 | Test Error: Acc: 91.1%, Avg loss: 0.006202\n",
      "Epoch 18| accuracy: 99.7%, loss: 0.000051 | Test Error: Acc: 91.3%, Avg loss: 0.006196\n",
      "Epoch 20| accuracy: 99.8%, loss: 0.000031 | Test Error: Acc: 89.8%, Avg loss: 0.006256\n",
      "Epoch 22| accuracy: 99.7%, loss: 0.000044 | Test Error: Acc: 87.3%, Avg loss: 0.006357\n",
      "Epoch 24| accuracy: 99.8%, loss: 0.000027 | Test Error: Acc: 86.5%, Avg loss: 0.006393\n",
      "Epoch 26| accuracy: 99.9%, loss: 0.000024 | Test Error: Acc: 85.5%, Avg loss: 0.006433\n",
      "Epoch 28| accuracy: 99.8%, loss: 0.000035 | Test Error: Acc: 86.9%, Avg loss: 0.006377\n",
      "Epoch 30| accuracy: 99.9%, loss: 0.000028 | Test Error: Acc: 85.3%, Avg loss: 0.006431\n",
      "Epoch 32| accuracy: 99.9%, loss: 0.000023 | Test Error: Acc: 83.0%, Avg loss: 0.006520\n",
      "Epoch 34| accuracy: 99.8%, loss: 0.000033 | Test Error: Acc: 82.1%, Avg loss: 0.006569\n",
      "Epoch 36| accuracy: 99.9%, loss: 0.000021 | Test Error: Acc: 82.5%, Avg loss: 0.006551\n",
      "Epoch 38| accuracy: 99.9%, loss: 0.000026 | Test Error: Acc: 81.0%, Avg loss: 0.006608\n",
      "Epoch 40| accuracy: 99.8%, loss: 0.000032 | Test Error: Acc: 79.2%, Avg loss: 0.006678\n",
      "Epoch 42| accuracy: 100.0%, loss: 0.000009 | Test Error: Acc: 80.8%, Avg loss: 0.006618\n",
      "Epoch 44| accuracy: 100.0%, loss: 0.000006 | Test Error: Acc: 81.3%, Avg loss: 0.006590\n",
      "Epoch 46| accuracy: 99.7%, loss: 0.000054 | Test Error: Acc: 77.9%, Avg loss: 0.006728\n",
      "Epoch 48| accuracy: 99.9%, loss: 0.000018 | Test Error: Acc: 79.4%, Avg loss: 0.006669\n",
      "Epoch 50| accuracy: 99.8%, loss: 0.000038 | Test Error: Acc: 77.0%, Avg loss: 0.006764\n",
      "--> Training took 109.639991 seconds!\n",
      "Loading dataset from existing file!\n",
      "RRRGradCAM-wrong-0\n",
      "Start training...\n",
      "Epoch 2| accuracy: 94.1%, loss: 0.017172 | Test Error: Acc: 88.8%, Avg loss: 0.006350\n",
      "Epoch 4| accuracy: 95.7%, loss: 0.011407 | Test Error: Acc: 90.7%, Avg loss: 0.006265\n",
      "Epoch 6| accuracy: 96.7%, loss: 0.008634 | Test Error: Acc: 92.9%, Avg loss: 0.006178\n",
      "Epoch 8| accuracy: 97.0%, loss: 0.007485 | Test Error: Acc: 93.1%, Avg loss: 0.006185\n",
      "Epoch 10| accuracy: 97.3%, loss: 0.007338 | Test Error: Acc: 93.3%, Avg loss: 0.006157\n",
      "Epoch 12| accuracy: 97.5%, loss: 0.007900 | Test Error: Acc: 91.7%, Avg loss: 0.006218\n",
      "Epoch 14| accuracy: 97.6%, loss: 0.011343 | Test Error: Acc: 92.1%, Avg loss: 0.006195\n",
      "Epoch 16| accuracy: 98.0%, loss: 0.010964 | Test Error: Acc: 91.0%, Avg loss: 0.006227\n",
      "Epoch 18| accuracy: 98.1%, loss: 0.010454 | Test Error: Acc: 90.6%, Avg loss: 0.006246\n",
      "Epoch 20| accuracy: 98.2%, loss: 0.009635 | Test Error: Acc: 89.3%, Avg loss: 0.006297\n",
      "Epoch 22| accuracy: 98.3%, loss: 0.011627 | Test Error: Acc: 90.2%, Avg loss: 0.006264\n",
      "Epoch 24| accuracy: 98.6%, loss: 0.009636 | Test Error: Acc: 88.9%, Avg loss: 0.006302\n",
      "Epoch 26| accuracy: 98.6%, loss: 0.010567 | Test Error: Acc: 87.9%, Avg loss: 0.006346\n",
      "Epoch 28| accuracy: 98.6%, loss: 0.013220 | Test Error: Acc: 86.5%, Avg loss: 0.006402\n",
      "Epoch 30| accuracy: 98.7%, loss: 0.009212 | Test Error: Acc: 84.3%, Avg loss: 0.006482\n",
      "Epoch 32| accuracy: 99.0%, loss: 0.008218 | Test Error: Acc: 85.2%, Avg loss: 0.006454\n",
      "Epoch 34| accuracy: 99.1%, loss: 0.007697 | Test Error: Acc: 85.0%, Avg loss: 0.006458\n",
      "Epoch 36| accuracy: 99.1%, loss: 0.006786 | Test Error: Acc: 82.8%, Avg loss: 0.006538\n",
      "Epoch 38| accuracy: 99.2%, loss: 0.008072 | Test Error: Acc: 80.5%, Avg loss: 0.006633\n",
      "Epoch 40| accuracy: 99.2%, loss: 0.008912 | Test Error: Acc: 80.1%, Avg loss: 0.006646\n",
      "Epoch 42| accuracy: 99.2%, loss: 0.009209 | Test Error: Acc: 78.1%, Avg loss: 0.006719\n",
      "Epoch 44| accuracy: 98.9%, loss: 0.009628 | Test Error: Acc: 79.6%, Avg loss: 0.006665\n",
      "Epoch 46| accuracy: 99.2%, loss: 0.008490 | Test Error: Acc: 80.4%, Avg loss: 0.006620\n",
      "Epoch 48| accuracy: 99.4%, loss: 0.007590 | Test Error: Acc: 77.8%, Avg loss: 0.006725\n",
      "Epoch 50| accuracy: 99.3%, loss: 0.008524 | Test Error: Acc: 77.9%, Avg loss: 0.006729\n",
      "--> Training took 121.762182 seconds!\n",
      "Loading dataset from existing file!\n",
      "RBR-wrong-0\n",
      "Start training...\n",
      "Epoch 2| accuracy: 98.4%, loss: 0.000201 | Test Error: Acc: 97.0%, Avg loss: 0.005989\n",
      "Epoch 4| accuracy: 99.5%, loss: 0.000067 | Test Error: Acc: 92.2%, Avg loss: 0.006168\n",
      "Epoch 6| accuracy: 99.7%, loss: 0.000037 | Test Error: Acc: 88.5%, Avg loss: 0.006323\n",
      "Epoch 8| accuracy: 99.7%, loss: 0.000045 | Test Error: Acc: 85.4%, Avg loss: 0.006436\n",
      "Epoch 10| accuracy: 99.5%, loss: 0.000065 | Test Error: Acc: 86.8%, Avg loss: 0.006375\n"
     ]
    }
   ],
   "source": [
    "methods = ['RRR', 'RRRGradCAM', 'RBR', 'CDEP', 'HINT', 'CE']\n",
    "for feed in ['wrong', 'incomplete']:\n",
    "    for n in range(5):\n",
    "        util.seed_all(SEED[n])\n",
    "        for meth in methods:\n",
    "            if meth == 'RRR':\n",
    "                train_dataloader, test_dataloader = decoy_mnist(device=DEVICE, batch_size=BATCH_SIZE, feedback=feed)      \n",
    "                reg = 10\n",
    "                loss_fn = RRRLoss(reg)\n",
    "            elif meth == 'RBR':\n",
    "                train_dataloader, test_dataloader = decoy_mnist(device=DEVICE, batch_size=BATCH_SIZE, feedback=feed)      \n",
    "                reg = 100000\n",
    "                loss_fn = RBRLoss(reg)\n",
    "            elif meth == 'RRRGradCAM':\n",
    "                train_dataloader, test_dataloader = decoy_mnist(device=DEVICE, batch_size=BATCH_SIZE, feedback=feed)      \n",
    "                reg = 1\n",
    "                loss_fn = RRRGradCamLoss(reg)\n",
    "            elif meth == 'HINT':\n",
    "                train_dataloader, test_dataloader = decoy_mnist(hint_expl=True, device=DEVICE, batch_size=BATCH_SIZE, feedback=feed)\n",
    "                reg = 100\n",
    "                loss_fn = HINTLoss(reg, last_conv_specified=True, upsample=True)\n",
    "            elif meth == 'CE':\n",
    "                train_dataloader, test_dataloader = decoy_mnist_CE_augmented(device=DEVICE, batch_size=BATCH_SIZE, feedback=feed)\n",
    "                reg = None\n",
    "                loss_fn = nn.CrossEntropyLoss()\n",
    "            elif meth == 'CDEP':\n",
    "                train_dataloader, test_dataloader = decoy_mnist(device=DEVICE, batch_size=BATCH_SIZE, feedback=feed)      \n",
    "                reg = 1000000  \n",
    "                loss_fn = CDEPLoss(reg)\n",
    "            print(f'{meth}-{feed}-{n}')\n",
    "            model = dnns.SimpleConvNet().to(DEVICE)\n",
    "            optimizer = torch.optim.Adam(model.parameters(), lr=LR)\n",
    "            model = dnns.SimpleConvNet().to(DEVICE)\n",
    "            optimizer = torch.optim.Adam(model.parameters(), lr=LR)\n",
    "            modelname = f'Robustness-{feed}-DecoyMNIST-CNN-{meth}--seed={SEED[n]}'\n",
    "            learner = Learner(model, loss_fn, optimizer, DEVICE, modelname)\n",
    "            learner.fit(train_dataloader, test_dataloader, EPOCHS, save_last=SAVE_LAST, verbose_after_n_epochs=VERBOSE_AFTER_N_EPOCHS)\n",
    "            test_acc, _ = learner.score(test_dataloader, learner.base_criterion)"
   ]
  },
  {
   "cell_type": "code",
   "execution_count": null,
   "metadata": {},
   "outputs": [],
   "source": []
  }
 ],
 "metadata": {
  "accelerator": "GPU",
  "colab": {
   "collapsed_sections": [],
   "name": "DecoyFashionMNIST-CNN-feedback-robustness-RQ2A.ipynb",
   "provenance": []
  },
  "kernelspec": {
   "display_name": "Python 3 (ipykernel)",
   "language": "python",
   "name": "python3"
  },
  "language_info": {
   "codemirror_mode": {
    "name": "ipython",
    "version": 3
   },
   "file_extension": ".py",
   "mimetype": "text/x-python",
   "name": "python",
   "nbconvert_exporter": "python",
   "pygments_lexer": "ipython3",
   "version": "3.8.10"
  }
 },
 "nbformat": 4,
 "nbformat_minor": 1
}
